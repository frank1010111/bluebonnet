{
 "cells": [
  {
   "cell_type": "code",
   "execution_count": 1,
   "id": "7675c404-457c-480d-bea6-7309b5fe476b",
   "metadata": {},
   "outputs": [],
   "source": [
    "%load_ext autoreload\n",
    "%autoreload 2\n",
    "import numpy as np\n",
    "import scipy as sp\n",
    "from scipy.interpolate import interp1d,UnivariateSpline\n",
    "import pandas as pd\n",
    "import matplotlib.pyplot as plt\n",
    "from scipy.integrate import cumtrapz\n"
   ]
  },
  {
   "cell_type": "code",
   "execution_count": 24,
   "id": "93594e95-7722-4861-bd0b-3a20cbfae062",
   "metadata": {},
   "outputs": [],
   "source": [
    "N=1000\n",
    "DeltaX=.1\n",
    "DeltaX2=DeltaX**2\n",
    "x=np.linspace(-N*DeltaX/2,N*DeltaX/2,N)"
   ]
  },
  {
   "cell_type": "code",
   "execution_count": 18,
   "id": "7ca279c6-4917-484c-956b-1a4b377083e5",
   "metadata": {},
   "outputs": [],
   "source": [
    "SecondDerivative=np.zeros((N,N),'float')"
   ]
  },
  {
   "cell_type": "code",
   "execution_count": 20,
   "id": "3a046ed1-2408-4a18-ad0f-00ba092b3546",
   "metadata": {},
   "outputs": [],
   "source": [
    "for i in range(N):\n",
    "    SecondDerivative[i,i]=-2\n",
    "for i in range(N-1):\n",
    "        SecondDerivative[i,i+1]=1\n",
    "        SecondDerivative[i+1,i]=1\n",
    "SecondDerivative=SecondDerivative/(DeltaX2)\n",
    "\n"
   ]
  },
  {
   "cell_type": "code",
   "execution_count": 75,
   "id": "a68d7d22-6ff2-4753-ac6e-4fc1bce2827a",
   "metadata": {},
   "outputs": [],
   "source": [
    "V=np.zeros((N,N),'float')\n",
    "V[250,250] = - 1 / DeltaX\n",
    "V[750,750] = - 1 / DeltaX\n",
    "V[500,500] = -1 / DeltaX\n",
    "\n"
   ]
  },
  {
   "cell_type": "code",
   "execution_count": 84,
   "id": "b2aec56d-ab15-42e2-b7c1-37e67ec5715c",
   "metadata": {
    "tags": []
   },
   "outputs": [],
   "source": [
    "for i in range(N):\n",
    "    V[i,i]=1/2*x[i]**2"
   ]
  },
  {
   "cell_type": "code",
   "execution_count": 85,
   "id": "f790d3b4-1f08-4108-a0fc-187c153a4293",
   "metadata": {},
   "outputs": [],
   "source": [
    "SchroedingerMatrix=-SecondDerivative+V"
   ]
  },
  {
   "cell_type": "code",
   "execution_count": 86,
   "id": "ce1ca2b2-194d-4c9d-aec2-f38f7cb8044e",
   "metadata": {},
   "outputs": [
    {
     "name": "stdout",
     "output_type": "stream",
     "text": [
      "CPU times: user 885 ms, sys: 740 ms, total: 1.62 s\n",
      "Wall time: 598 ms\n"
     ]
    }
   ],
   "source": [
    "%time E,psi=sp.linalg.eigh(SchroedingerMatrix)\n"
   ]
  },
  {
   "cell_type": "code",
   "execution_count": 87,
   "id": "5f2afdf2-0cb5-485f-b158-cc6cf667c362",
   "metadata": {},
   "outputs": [
    {
     "data": {
      "text/plain": [
       "[<matplotlib.lines.Line2D at 0x1aa6ddd30>]"
      ]
     },
     "execution_count": 87,
     "metadata": {},
     "output_type": "execute_result"
    },
    {
     "data": {
      "image/png": "[encoded data removed]",
      "text/plain": [
       "<Figure size 432x288 with 1 Axes>"
      ]
     },
     "metadata": {
      "needs_background": "light"
     },
     "output_type": "display_data"
    }
   ],
   "source": [
    "plt.plot(x,psi[:,0])"
   ]
  },
  {
   "cell_type": "code",
   "execution_count": null,
   "id": "ad10c629-bacc-4ad6-bafb-8c7c6afe6d40",
   "metadata": {},
   "outputs": [],
   "source": []
  }
 ],
 "metadata": {
  "kernelspec": {
   "display_name": "Python 3 (ipykernel)",
   "language": "python",
   "name": "python3"
  },
  "language_info": {
   "codemirror_mode": {
    "name": "ipython",
    "version": 3
   },
   "file_extension": ".py",
   "mimetype": "text/x-python",
   "name": "python",
   "nbconvert_exporter": "python",
   "pygments_lexer": "ipython3",
   "version": "3.9.7"
  }
 },
 "nbformat": 4,
 "nbformat_minor": 5
}
