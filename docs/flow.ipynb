{
 "cells": [
  {
   "cell_type": "markdown",
   "id": "f324071c",
   "metadata": {},
   "source": [
    "# Simulating flow\n",
    "\n",
    "With `bluebonnet.flow`, you can solve pseudopressure over time and calculate how production declines and recovery factor increases. First, a few imports:"
   ]
  },
  {
   "cell_type": "code",
   "execution_count": null,
   "id": "5d796a2f",
   "metadata": {},
   "outputs": [],
   "source": [
    "%load_ext autoreload\n",
    "%autoreload 2\n",
    "\n",
    "import numpy as np\n",
    "import scipy as sp\n",
    "from scipy.interpolate import interp1d\n",
    "import pandas as pd\n",
    "import matplotlib.pyplot as plt\n",
    "\n",
    "from bluebonnet.flow import (\n",
    "    IdealReservoir,\n",
    "    FlowProperties,\n",
    "    FlowPropertiesTwoPhase,\n",
    "    SinglePhaseReservoir,\n",
    "    RelPermParams,\n",
    "    relative_permeabilities,\n",
    ")\n",
    "from bluebonnet.fluids.fluid import Fluid, pseudopressure\n",
    "from bluebonnet import plotting\n",
    "\n",
    "plt.style.use(\"ggplot\")"
   ]
  },
  {
   "cell_type": "code",
   "execution_count": null,
   "id": "586ca152",
   "metadata": {},
   "outputs": [],
   "source": [
    "def plot_pseudopressure(reservoir, ax=None):\n",
    "    if ax is None:\n",
    "        fig, ax = plt.subplots()\n",
    "    x = np.linspace(0, 1, reservoir.nx)\n",
    "    for i, p in enumerate(reservoir.pseudopressure):\n",
    "        if i % 200 == 0:\n",
    "            ax.plot(x, p, color=\"steelblue\")\n",
    "    ax.set(xlabel=\"x\", ylabel=\"Pseudopressure\", xlim=(0, 1), ylim=(0, 1.05))\n",
    "    return fig, ax\n",
    "\n",
    "\n",
    "def plot_recovery_factor(reservoir, ax=None, change_ticks=False):\n",
    "    if ax is None:\n",
    "        fig, ax = plt.subplots()\n",
    "    rf = reservoir.recovery_factor()\n",
    "    time = reservoir.time\n",
    "    ax.plot(time, rf)\n",
    "    ax.set(xscale=\"squareroot\", ylim=(0, None), xlim=(0, max(time)))\n",
    "    if change_ticks:\n",
    "        tick_locs = np.round((np.linspace(0, 1, 7) * np.sqrt(max(time))) ** 2, 1)\n",
    "        ax.set_xticks(tick_locs)\n",
    "    return ax"
   ]
  },
  {
   "cell_type": "markdown",
   "id": "00072c90",
   "metadata": {},
   "source": [
    "## Ideal gas simulation\n",
    "\n",
    "Ideal gas follows $pV=nRT$, with density varying linearly with pressure (at constant temperature). This is modeled with `IdealReservoir`. Viscosity is treated as a constant with this class."
   ]
  },
  {
   "cell_type": "code",
   "execution_count": null,
   "id": "6d498408",
   "metadata": {
    "tags": []
   },
   "outputs": [],
   "source": [
    "t_end = 10\n",
    "time = np.linspace(0, np.sqrt(t_end), 10_000) ** 2\n",
    "\n",
    "res_ideal = IdealReservoir(50, 1000, 9000, None)\n",
    "%time res_ideal.simulate(time)\n",
    "rf_ideal = res_ideal.recovery_factor()"
   ]
  },
  {
   "cell_type": "code",
   "execution_count": null,
   "id": "3771dd98",
   "metadata": {
    "jupyter": {
     "source_hidden": true
    },
    "tags": []
   },
   "outputs": [],
   "source": [
    "ax = plot_pseudopressure(res_ideal)\n",
    "\n",
    "ax = plot_recovery_factor(res_ideal)\n",
    "ax.set(xlabel=\"Time\", ylabel=\"Recovery factor\")"
   ]
  },
  {
   "cell_type": "markdown",
   "id": "dfd552a8",
   "metadata": {},
   "source": [
    "## Real gas simulation\n",
    "\n",
    "For real gases, the z-factor and viscosity can vary with pressure. Thus, density is not linear with pressure. For an example, see the PVT table stored in the tests folder:"
   ]
  },
  {
   "cell_type": "code",
   "execution_count": null,
   "id": "ba994260",
   "metadata": {
    "tags": []
   },
   "outputs": [],
   "source": [
    "pvt_gas = pd.read_csv(\"../tests/data/pvt_gas.csv\").rename(\n",
    "    columns={\n",
    "        \"P\": \"pressure\",\n",
    "        \"Z-Factor\": \"z-factor\",\n",
    "        \"Cg\": \"compressibility\",\n",
    "        \"Viscosity\": \"viscosity\",\n",
    "    }\n",
    ")\n",
    "\n",
    "\n",
    "def scale_pressure_diffusivity(df):\n",
    "    out = df.assign(\n",
    "        alpha=lambda x: 1 / (x.compressibility * x.viscosity),\n",
    "        density=lambda x: x.Density / max(x.Density),\n",
    "        pseudopressure=lambda x: (x[\"pseudopressure\"] - x[\"pseudopressure\"].min())\n",
    "        / (x[\"pseudopressure\"].max() - x[\"pseudopressure\"].min()),\n",
    "    ).assign(alpha=lambda x: x.alpha / x.alpha.iloc[-1])[\n",
    "        [\n",
    "            \"pressure\",\n",
    "            \"pseudopressure\",\n",
    "            \"alpha\",\n",
    "            \"density\",\n",
    "            \"z-factor\",\n",
    "            \"compressibility\",\n",
    "            \"viscosity\",\n",
    "        ]\n",
    "    ]\n",
    "    return out\n",
    "\n",
    "\n",
    "fluid_properties = pvt_gas.pipe(scale_pressure_diffusivity)\n",
    "ax = fluid_properties.plot(x=\"pseudopressure\", y=\"alpha\")\n",
    "ax.set(ylim=(0, 1), xlim=(0, 1), ylabel=\"diffusivity\")\n",
    "fluid_properties.plot(x=\"pseudopressure\", y=\"density\", ax=ax)"
   ]
  },
  {
   "cell_type": "markdown",
   "id": "ba6b6301",
   "metadata": {},
   "source": [
    "In a change from the ideal gas reservoir, we need to process the PVT table with `FlowProperties`, which becomes an argument passed to the `SinglePhaseReservoir` class. After that, simulating pseudopressure profiles and recovery factors are identical to the ideal reservoir case."
   ]
  },
  {
   "cell_type": "code",
   "execution_count": null,
   "id": "ccd96d2f",
   "metadata": {},
   "outputs": [],
   "source": [
    "t_end = 10\n",
    "time = np.linspace(0, np.sqrt(t_end), 10_000) ** 2\n",
    "\n",
    "flow_properties = FlowProperties(fluid_properties, p_i=12_000)\n",
    "\n",
    "res_realgas = SinglePhaseReservoir(50, 2000, 12000, flow_properties)\n",
    "\n",
    "%time res_realgas.simulate(time)\n",
    "rf2 = res_realgas.recovery_factor()"
   ]
  },
  {
   "cell_type": "code",
   "execution_count": null,
   "id": "68de855c",
   "metadata": {},
   "outputs": [],
   "source": [
    "from scipy import interpolate\n",
    "\n",
    "density_interp = interpolate.interp1d(\n",
    "    flow_properties.pvt_props[\"m-scaled\"], flow_properties.pvt_props[\"density\"]\n",
    ")\n",
    "\n",
    "\n",
    "def resource_left(pseudopressure, pvt):\n",
    "    density = interpolate.interp1d(pvt[\"pseudopressure\"], pvt[\"density\"])\n",
    "    return (density(pseudopressure)).sum(axis=1)\n",
    "\n",
    "\n",
    "remaining_gas = (\n",
    "    resource_left(res_realgas.pseudopressure, flow_properties.pvt_props)\n",
    "    / res_realgas.nx\n",
    ")\n",
    "fig, ax = plt.subplots()\n",
    "ax.plot(time, 1 - remaining_gas, label=\"Resource left\")\n",
    "ax.plot(time, rf2, \"--\", label=\"Recovery factor from frac face\")\n",
    "ax.legend()\n",
    "ax.set(\n",
    "    xlabel=\"Time\",\n",
    "    ylabel=\"Recovered gas\",\n",
    "    ylim=(0, None),\n",
    "    xscale=\"squareroot\",\n",
    "    xlim=(0, None),\n",
    ")\n",
    "\n",
    "fig, ax = plt.subplots()\n",
    "ax.plot(remaining_gas, rf2, label=\"from checking at the frac face\")\n",
    "ax.plot([1, 0], [0, 1], label=\"Theory\")\n",
    "ax.set(xlabel=\"Resource left\", ylabel=\"Recovery factor\")\n",
    "ax.legend()"
   ]
  },
  {
   "cell_type": "code",
   "execution_count": null,
   "id": "f0da1496-3865-4b3b-b746-507a65afcb7b",
   "metadata": {},
   "outputs": [],
   "source": [
    "ax = plot_pseudopressure(res_realgas)\n",
    "\n",
    "ax = plot_recovery_factor(res_realgas)\n",
    "ax.set(xlabel=\"Time\", ylabel=\"Recovery factor\")"
   ]
  },
  {
   "cell_type": "markdown",
   "id": "558be95b-3eb7-4799-bbc3-cb8834000168",
   "metadata": {},
   "source": [
    "# Flow Curves\n",
    "\n",
    "The recovery factor curves vary with fracture face pressure. Here, we run a series of simulations at different fracture face pressures and compare the resulting recovery factor."
   ]
  },
  {
   "cell_type": "code",
   "execution_count": null,
   "id": "a1ed21f4-6962-482c-a328-41323c29dd41",
   "metadata": {},
   "outputs": [],
   "source": [
    "p_i = 12000\n",
    "rf = {}\n",
    "for p_f in np.linspace(500, 2000, 7):\n",
    "    print(\"Starting\", p_f)\n",
    "    fluid_properties = pvt_gas[pvt_gas.pressure >= p_f].pipe(scale_pressure_diffusivity)\n",
    "    flow_properties = FlowProperties(fluid_properties, p_i=p_i)\n",
    "    res_realgas = SinglePhaseReservoir(50, p_f, p_i, flow_properties)\n",
    "\n",
    "    %time res_realgas.simulate(time)\n",
    "    rf[f\"{p_f:.0f}\"] = res_realgas.recovery_factor()"
   ]
  },
  {
   "cell_type": "code",
   "execution_count": null,
   "id": "f7353931",
   "metadata": {},
   "outputs": [],
   "source": [
    "ax = pd.DataFrame(rf).plot()\n",
    "ax.set(xlim=(0, None), ylim=(0, None), xlabel=\"Time\", ylabel=\"Recovery factor\")\n",
    "ax.legend().set(title=\"fracture pressure\")"
   ]
  },
  {
   "cell_type": "markdown",
   "id": "740b2a54",
   "metadata": {},
   "source": [
    "Comparing the recovery factor for ideal versus real gases is enlightening. Because of the pressure variation of diffusivity, at real gas reservoirs assymptote more slowly than an ideal gas would."
   ]
  },
  {
   "cell_type": "code",
   "execution_count": null,
   "id": "d16fce93",
   "metadata": {},
   "outputs": [],
   "source": [
    "# ax = plot_pseudopressure(res_realgas)\n",
    "\n",
    "fig, ax = plt.subplots()\n",
    "ax.plot(time, rf_ideal, label=\"Ideal gas\")\n",
    "ax.plot(time, rf2, label=\"Real gas\")\n",
    "ax.legend()\n",
    "ax.set(\n",
    "    xlabel=\"Time\",\n",
    "    ylabel=\"Recovery factor\",\n",
    "    ylim=(0, None),\n",
    "    xscale=\"squareroot\",\n",
    "    xlim=(0, None),\n",
    ")"
   ]
  },
  {
   "cell_type": "markdown",
   "id": "888126b3",
   "metadata": {},
   "source": [
    "## Multiphase flow\n",
    "\n",
    "The next level of complexity includes a gas phase that, at lower pressures, is no longer miscible with the oil phase. Water can also be present.\n",
    "\n",
    "### Set up PVT\n",
    "\n",
    "First we gather pvt data for the oil-gas system and water. Then we calculate the oil saturation as a function of pressure and perform the pseudopressure transform."
   ]
  },
  {
   "cell_type": "code",
   "execution_count": null,
   "id": "5eaaf685",
   "metadata": {},
   "outputs": [],
   "source": [
    "# set conditions\n",
    "Sw = 0.1\n",
    "p_frac = 1000\n",
    "p_res = 6_000\n",
    "phi = 0.1\n",
    "fvf_scale = 1\n",
    "\n",
    "# get pvt tables\n",
    "pvt_oil = pd.read_csv(\"../tests/data/pvt_oil.csv\")\n",
    "pvt_water = pd.read_csv(\"../tests/data/pvt_water.csv\").rename(\n",
    "    columns={\"T\": \"temperature\", \"P\": \"pressure\", \"Viscosity\": \"mu_w\"}\n",
    ")\n",
    "df_pvt = (\n",
    "    pvt_water.drop(columns=[\"temperature\"])\n",
    "    .merge(\n",
    "        pvt_oil.rename(\n",
    "            columns={\n",
    "                \"T\": \"temperature\",\n",
    "                \"P\": \"pressure\",\n",
    "                \"Oil_Viscosity\": \"mu_o\",\n",
    "                \"Gas_Viscosity\": \"mu_g\",\n",
    "                \"Rso\": \"Rs\",\n",
    "            }\n",
    "        ),\n",
    "        on=\"pressure\",\n",
    "    )\n",
    "    .assign(Rv=0)\n",
    ")\n",
    "\n",
    "# calculate So, Sg assuming no mobile water\n",
    "df_pvt_mp = df_pvt.copy()\n",
    "df_pvt_mp[\"So\"] = (1 - Sw) / (\n",
    "    (df_pvt[\"Rs\"].max() - df_pvt[\"Rs\"]) * df_pvt[\"Bg\"] / df_pvt[\"Bo\"] / 5.61458 + 1\n",
    ")\n",
    "\n",
    "# scale pseudopressure\n",
    "pseudopressure = interp1d(df_pvt.pressure, df_pvt.pseudopressure)\n",
    "df_pvt_mp[\"pseudopressure\"] = (\n",
    "    pseudopressure(df_pvt_mp[\"pressure\"]) - pseudopressure(p_frac)\n",
    ") / (pseudopressure(p_res) - pseudopressure(p_frac))\n",
    "\n",
    "fig, ax = plt.subplots()\n",
    "df_pvt_mp.plot(x=\"pressure\", y=\"pseudopressure\", ax=ax)\n",
    "df_pvt_mp.plot(x=\"pressure\", y=\"So\", ax=ax)\n",
    "ax.set(xlim=(p_frac, p_res), ylim=(0, 1.0), ylabel=\"Value\")"
   ]
  },
  {
   "cell_type": "markdown",
   "id": "13d20050",
   "metadata": {},
   "source": [
    "### Set up relative permeabilities\n",
    "\n",
    "The next step involves declaring relative permeability curves. Here, we use the Brooks-Corey method, made available in this library with the `relative_permeabilities` function."
   ]
  },
  {
   "cell_type": "code",
   "execution_count": null,
   "id": "9f456f0b",
   "metadata": {},
   "outputs": [],
   "source": [
    "relperm_params = RelPermParams(\n",
    "    n_o=1, n_g=1, n_w=1, S_or=0, S_gc=0, S_wc=0.1, k_ro_max=1, k_rw_max=1, k_rg_max=1\n",
    ")\n",
    "saturations_test = pd.DataFrame(\n",
    "    {\"So\": np.linspace(0, 0.9), \"Sw\": np.full(50, 0.1), \"Sg\": np.linspace(0.9, 0)}\n",
    ")\n",
    "kr_matrix = pd.DataFrame(\n",
    "    relative_permeabilities(saturations_test.to_records(index=False), relperm_params)\n",
    ")\n",
    "df_kr = pd.concat([saturations_test, kr_matrix], axis=1)\n",
    "reference_densities = {\"rho_o0\": 141.5 / (45 + 131.5), \"rho_g0\": 1.03e-3, \"rho_w0\": 1}\n",
    "flow_props = FlowPropertiesTwoPhase.from_table(\n",
    "    df_pvt_mp, df_kr, reference_densities, phi, Sw, fvf_scale\n",
    ")\n",
    "m_scaled = np.linspace(0, 1)\n",
    "fig, ax = plt.subplots()\n",
    "ax.plot(m_scaled, flow_props.alpha(m_scaled) / flow_props.alpha(1))\n",
    "ax.set(\n",
    "    xlim=(0, 1),\n",
    "    ylim=(0, None),\n",
    "    xlabel=\"scaled pseudopressure\",\n",
    "    ylabel=r\"$\\alpha/\\alpha_i$\",\n",
    "    title=\"Fluid diffusivity\",\n",
    ");"
   ]
  },
  {
   "cell_type": "markdown",
   "id": "a7cae28e",
   "metadata": {},
   "source": [
    "### Simulate\n",
    "\n",
    "Calculating the pseudopressure profiles and recovery factor looks very similar to the functions used above. The main difference is a more complicated `flow_props` that came from `FlowPropertiesTwoPhase`."
   ]
  },
  {
   "cell_type": "code",
   "execution_count": null,
   "id": "46a4d535",
   "metadata": {},
   "outputs": [],
   "source": [
    "res = SinglePhaseReservoir(50, p_frac, p_res, flow_props)\n",
    "t_end = 3\n",
    "time = np.linspace(0, np.sqrt(t_end), 10_000) ** 2\n",
    "res.simulate(time)\n",
    "rf = res.recovery_factor()"
   ]
  },
  {
   "cell_type": "code",
   "execution_count": null,
   "id": "c815dafb",
   "metadata": {},
   "outputs": [],
   "source": [
    "fig, ax = plt.subplots()\n",
    "ax.plot(time, rf)\n",
    "ax.set(\n",
    "    xscale=\"squareroot\",\n",
    "    xlim=(0, t_end),\n",
    "    ylim=(0, None),\n",
    "    ylabel=\"RF\",\n",
    "    title=\"Recovery factor\",\n",
    "    xlabel=\"Scaled time (square root scale)\",\n",
    ");"
   ]
  }
 ],
 "metadata": {
  "kernelspec": {
   "display_name": "Python 3 (ipykernel)",
   "language": "python",
   "name": "python3"
  },
  "language_info": {
   "codemirror_mode": {
    "name": "ipython",
    "version": 3
   },
   "file_extension": ".py",
   "mimetype": "text/x-python",
   "name": "python",
   "nbconvert_exporter": "python",
   "pygments_lexer": "ipython3",
   "version": "3.9.7"
  },
  "vscode": {
   "interpreter": {
    "hash": "78ac18265c879d37ac2b7841ad684544c80bf692635ddde1d3f767f267b966c1"
   }
  }
 },
 "nbformat": 4,
 "nbformat_minor": 5
}
