{
 "cells": [
  {
   "cell_type": "markdown",
   "id": "f324071c",
   "metadata": {},
   "source": [
    "# Varying Fracface Pressure\n",
    "\n",
    "More advanced use of `bluebonnet.flow` in a project where pressure variation at the frac-face or bottom-hole is approximately known."
   ]
  },
  {
   "cell_type": "code",
   "execution_count": 1,
   "id": "5d796a2f",
   "metadata": {},
   "outputs": [],
   "source": [
    "%load_ext autoreload\n",
    "%autoreload 2\n",
    "import numpy as np\n",
    "import pandas as pd\n",
    "import matplotlib.pyplot as plt\n",
    "from scipy import interpolate\n",
    "\n",
    "from bluebonnet.flow import FlowProperties, SinglePhaseReservoir\n",
    "from bluebonnet.fluids import build_pvt_gas\n",
    "from bluebonnet.forecast.forecast_pressure import (\n",
    "    fit_production_pressure,\n",
    "    plot_production_comparison,\n",
    ")\n",
    "from bluebonnet import plotting"
   ]
  },
  {
   "cell_type": "code",
   "execution_count": 2,
   "id": "6f267dec-0a18-4ba9-9b95-8341cf4668ec",
   "metadata": {},
   "outputs": [
    {
     "name": "stdout",
     "output_type": "stream",
     "text": [
      "mf = 0.09720937870967307\n",
      "CPU times: user 3.08 s, sys: 11.7 ms, total: 3.09 s\n",
      "Wall time: 3.09 s\n",
      "0.3642368902150243\n",
      "pseudopressure_fracface=array(0.09720938) 0.0008833922400551281 Deviation is  -1%\n"
     ]
    },
    {
     "data": {
      "text/plain": [
       "[Text(0.5, 0, 'Time'), None, Text(0, 0.5, 'Pressure')]"
      ]
     },
     "execution_count": 2,
     "metadata": {},
     "output_type": "execute_result"
    },
    {
     "data": {
      "image/png": "[encoded data removed]",
      "text/plain": [
       "<Figure size 288x432 with 2 Axes>"
      ]
     },
     "metadata": {
      "needs_background": "light"
     },
     "output_type": "display_data"
    }
   ],
   "source": [
    "pressure_initial = 12_000.0\n",
    "pressure_fracface = 5_000.0\n",
    "\n",
    "n_times = 1_000\n",
    "t_end = 20\n",
    "time = np.linspace(0, np.sqrt(t_end), n_times) ** 2\n",
    "pressure_v_time = np.full(n_times, pressure_fracface)\n",
    "pressure_v_time[n_times // 4 : n_times // 2] /= 2.0\n",
    "pressure_v_time[n_times // 2 :] /= 4.0\n",
    "\n",
    "pvt_gas = pd.read_csv(\"../tests/data/pvt_gas.csv\").rename(\n",
    "    columns={\n",
    "        \"P\": \"pressure\",\n",
    "        \"Z-Factor\": \"z-factor\",\n",
    "        \"Cg\": \"compressibility\",\n",
    "        \"Viscosity\": \"viscosity\",\n",
    "    }\n",
    ")\n",
    "flow_properties = FlowProperties(pvt_gas, pressure_initial)\n",
    "pseudopressure_fracface = flow_properties.m_scaled_func(pressure_fracface)\n",
    "pseudopressure_initial = flow_properties.m_scaled_func(pressure_initial)\n",
    "\n",
    "print(\"mf =\", flow_properties.m_scaled_func(pressure_fracface))\n",
    "\n",
    "res = SinglePhaseReservoir(100, pressure_fracface, pressure_initial, flow_properties)\n",
    "\n",
    "%time res.simulate(time, pressure_v_time)\n",
    "\n",
    "recovery = res.recovery_factor()\n",
    "\n",
    "\n",
    "def resource_left(pseudopressure, pvt):\n",
    "    density = interpolate.interp1d(pvt.pvt_props[\"m-scaled\"], pvt.pvt_props[\"Density\"])\n",
    "    print(max(pvt.pvt_props[\"m-scaled\"]))\n",
    "    p = np.minimum(pseudopressure, max(pvt.pvt_props[\"m-scaled\"]))\n",
    "    return (density(p)).sum(axis=1) / len(pseudopressure[0])\n",
    "\n",
    "\n",
    "density_interp = interpolate.interp1d(\n",
    "    flow_properties.pvt_props[\"m-scaled\"], flow_properties.pvt_props[\"Density\"]\n",
    ")\n",
    "remaining_gas = (resource_left(res.pseudopressure, flow_properties)) / (\n",
    "    density_interp(pseudopressure_initial)\n",
    ")\n",
    "print(\n",
    "    f\"{pseudopressure_fracface=}\",\n",
    "    res.pseudopressure[-1][0],\n",
    "    f\"Deviation is {(recovery[-1] - 1 + remaining_gas[-1]) / recovery[-1] * 100:3.2g}%\",\n",
    ")\n",
    "fig, (ax1, ax2) = plt.subplots(2, 1)\n",
    "fig.set_size_inches(4, 6)\n",
    "ax1.plot(time, 1 - remaining_gas, label=\"From resource left\")\n",
    "ax1.plot(time, recovery, \"--\", label=\"From frac face flow\")\n",
    "ax1.legend()\n",
    "ax1.set(\n",
    "    xlabel=\"Time\",\n",
    "    ylabel=\"Recovered gas\",\n",
    "    ylim=(0, None),\n",
    "    xscale=\"squareroot\",\n",
    "    xlim=(0, None),\n",
    ")\n",
    "\n",
    "ax2.plot(time, pressure_v_time, label=\"Pressure\")\n",
    "ax2.set(xlabel=\"Time\", xscale=\"squareroot\", ylabel=\"Pressure\");"
   ]
  },
  {
   "cell_type": "markdown",
   "id": "c26f8388-83d9-4e8b-9d0b-f5ea95e77a60",
   "metadata": {},
   "source": [
    "## Build PVT data\n",
    "\n",
    "There are two ways to create the necessary pressure-volume-temperature data. \n",
    "1. Use the well data and an appropriate equation of state\n",
    "2. Pull data from a pre-made csv file. \n",
    "\n",
    "We will show both with the next code cell."
   ]
  },
  {
   "cell_type": "code",
   "execution_count": 3,
   "id": "fde6e2b6-5fef-4c97-acdc-d59a58ae39b2",
   "metadata": {},
   "outputs": [
    {
     "data": {
      "text/html": [
       "<div>\n",
       "<style scoped>\n",
       "    .dataframe tbody tr th:only-of-type {\n",
       "        vertical-align: middle;\n",
       "    }\n",
       "\n",
       "    .dataframe tbody tr th {\n",
       "        vertical-align: top;\n",
       "    }\n",
       "\n",
       "    .dataframe thead th {\n",
       "        text-align: right;\n",
       "    }\n",
       "</style>\n",
       "<table border=\"1\" class=\"dataframe\">\n",
       "  <thead>\n",
       "    <tr style=\"text-align: right;\">\n",
       "      <th></th>\n",
       "      <th>temperature</th>\n",
       "      <th>pressure</th>\n",
       "      <th>Density</th>\n",
       "      <th>z-factor</th>\n",
       "      <th>compressibility</th>\n",
       "      <th>viscosity</th>\n",
       "      <th>pseudopressure</th>\n",
       "    </tr>\n",
       "  </thead>\n",
       "  <tbody>\n",
       "    <tr>\n",
       "      <th>0</th>\n",
       "      <td>285.21375</td>\n",
       "      <td>10.0</td>\n",
       "      <td>0.021024</td>\n",
       "      <td>0.999592</td>\n",
       "      <td>0.100043</td>\n",
       "      <td>0.014638</td>\n",
       "      <td>0.000000e+00</td>\n",
       "    </tr>\n",
       "    <tr>\n",
       "      <th>1</th>\n",
       "      <td>285.21375</td>\n",
       "      <td>20.0</td>\n",
       "      <td>0.042065</td>\n",
       "      <td>0.999181</td>\n",
       "      <td>0.050043</td>\n",
       "      <td>0.014638</td>\n",
       "      <td>2.050874e+04</td>\n",
       "    </tr>\n",
       "    <tr>\n",
       "      <th>2</th>\n",
       "      <td>285.21375</td>\n",
       "      <td>30.0</td>\n",
       "      <td>0.063123</td>\n",
       "      <td>0.998775</td>\n",
       "      <td>0.033376</td>\n",
       "      <td>0.014639</td>\n",
       "      <td>5.470201e+04</td>\n",
       "    </tr>\n",
       "    <tr>\n",
       "      <th>3</th>\n",
       "      <td>285.21375</td>\n",
       "      <td>40.0</td>\n",
       "      <td>0.084198</td>\n",
       "      <td>0.998370</td>\n",
       "      <td>0.025043</td>\n",
       "      <td>0.014639</td>\n",
       "      <td>1.025897e+05</td>\n",
       "    </tr>\n",
       "    <tr>\n",
       "      <th>4</th>\n",
       "      <td>285.21375</td>\n",
       "      <td>50.0</td>\n",
       "      <td>0.105290</td>\n",
       "      <td>0.997967</td>\n",
       "      <td>0.020042</td>\n",
       "      <td>0.014640</td>\n",
       "      <td>1.641813e+05</td>\n",
       "    </tr>\n",
       "    <tr>\n",
       "      <th>...</th>\n",
       "      <td>...</td>\n",
       "      <td>...</td>\n",
       "      <td>...</td>\n",
       "      <td>...</td>\n",
       "      <td>...</td>\n",
       "      <td>...</td>\n",
       "      <td>...</td>\n",
       "    </tr>\n",
       "    <tr>\n",
       "      <th>1394</th>\n",
       "      <td>285.21375</td>\n",
       "      <td>13950.0</td>\n",
       "      <td>17.710554</td>\n",
       "      <td>1.655297</td>\n",
       "      <td>0.000029</td>\n",
       "      <td>0.029885</td>\n",
       "      <td>6.092847e+09</td>\n",
       "    </tr>\n",
       "    <tr>\n",
       "      <th>1395</th>\n",
       "      <td>285.21375</td>\n",
       "      <td>13960.0</td>\n",
       "      <td>17.715675</td>\n",
       "      <td>1.656005</td>\n",
       "      <td>0.000029</td>\n",
       "      <td>0.029895</td>\n",
       "      <td>6.098487e+09</td>\n",
       "    </tr>\n",
       "    <tr>\n",
       "      <th>1396</th>\n",
       "      <td>285.21375</td>\n",
       "      <td>13970.0</td>\n",
       "      <td>17.720791</td>\n",
       "      <td>1.656713</td>\n",
       "      <td>0.000029</td>\n",
       "      <td>0.029905</td>\n",
       "      <td>6.104126e+09</td>\n",
       "    </tr>\n",
       "    <tr>\n",
       "      <th>1397</th>\n",
       "      <td>285.21375</td>\n",
       "      <td>13980.0</td>\n",
       "      <td>17.725903</td>\n",
       "      <td>1.657421</td>\n",
       "      <td>0.000029</td>\n",
       "      <td>0.029915</td>\n",
       "      <td>6.109766e+09</td>\n",
       "    </tr>\n",
       "    <tr>\n",
       "      <th>1398</th>\n",
       "      <td>285.21375</td>\n",
       "      <td>13990.0</td>\n",
       "      <td>17.731011</td>\n",
       "      <td>1.658128</td>\n",
       "      <td>0.000029</td>\n",
       "      <td>0.029925</td>\n",
       "      <td>6.115405e+09</td>\n",
       "    </tr>\n",
       "  </tbody>\n",
       "</table>\n",
       "<p>1399 rows × 7 columns</p>\n",
       "</div>"
      ],
      "text/plain": [
       "      temperature  pressure    Density  z-factor  compressibility  viscosity  \\\n",
       "0       285.21375      10.0   0.021024  0.999592         0.100043   0.014638   \n",
       "1       285.21375      20.0   0.042065  0.999181         0.050043   0.014638   \n",
       "2       285.21375      30.0   0.063123  0.998775         0.033376   0.014639   \n",
       "3       285.21375      40.0   0.084198  0.998370         0.025043   0.014639   \n",
       "4       285.21375      50.0   0.105290  0.997967         0.020042   0.014640   \n",
       "...           ...       ...        ...       ...              ...        ...   \n",
       "1394    285.21375   13950.0  17.710554  1.655297         0.000029   0.029885   \n",
       "1395    285.21375   13960.0  17.715675  1.656005         0.000029   0.029895   \n",
       "1396    285.21375   13970.0  17.720791  1.656713         0.000029   0.029905   \n",
       "1397    285.21375   13980.0  17.725903  1.657421         0.000029   0.029915   \n",
       "1398    285.21375   13990.0  17.731011  1.658128         0.000029   0.029925   \n",
       "\n",
       "      pseudopressure  \n",
       "0       0.000000e+00  \n",
       "1       2.050874e+04  \n",
       "2       5.470201e+04  \n",
       "3       1.025897e+05  \n",
       "4       1.641813e+05  \n",
       "...              ...  \n",
       "1394    6.092847e+09  \n",
       "1395    6.098487e+09  \n",
       "1396    6.104126e+09  \n",
       "1397    6.109766e+09  \n",
       "1398    6.115405e+09  \n",
       "\n",
       "[1399 rows x 7 columns]"
      ]
     },
     "execution_count": 3,
     "metadata": {},
     "output_type": "execute_result"
    }
   ],
   "source": [
    "#\n",
    "## Using the well data and bluebonnet.fluids\n",
    "#\n",
    "play = \"HAYNESVILLE SHALE\"\n",
    "field_values = {\n",
    "    \"N2\": 0.0,\n",
    "    \"H2S\": 0.0,\n",
    "    \"CO2\": 0.0002,\n",
    "    \"Gas Specific Gravity\": 0.58,\n",
    "    \"Reservoir Temperature (deg F)\": 285.21375,\n",
    "}\n",
    "gas_dryness = \"wet gas\"\n",
    "pvt_gas = build_pvt_gas(field_values, gas_dryness)\n",
    "# pvt_gas.to_csv(\"../tests/data/pvt_gas_\" + Play + \"_\" + str(WellNumber) + \".csv\")\n",
    "print(pvt_gas.head())\n",
    "\n",
    "#\n",
    "## Using pre-gathered pvt data\n",
    "#\n",
    "pvt_gas = pd.read_csv(\"../tests/data/pvt_gas_\" + play + \"_20.csv\", index_col=0)\n",
    "pvt_gas"
   ]
  },
  {
   "cell_type": "markdown",
   "id": "f7602f6a",
   "metadata": {},
   "source": [
    "## Fit wells"
   ]
  },
  {
   "cell_type": "code",
   "execution_count": 6,
   "id": "141d42a8",
   "metadata": {
    "tags": []
   },
   "outputs": [
    {
     "data": {
      "text/html": [
       "<h2>Fit Statistics</h2><table><tr><td>fitting method</td><td>Nelder-Mead</td><td></td></tr><tr><td># function evals</td><td>101</td><td></td></tr><tr><td># data points</td><td>416</td><td></td></tr><tr><td># variables</td><td>3</td><td></td></tr><tr><td>chi-square</td><td> 48434965.2</td><td></td></tr><tr><td>reduced chi-square</td><td> 117275.945</td><td></td></tr><tr><td>Akaike info crit.</td><td> 4858.65967</td><td></td></tr><tr><td>Bayesian info crit.</td><td> 4870.75172</td><td></td></tr></table><h2>Variables</h2><table><tr><th> name </th><th> value </th><th> initial value </th><th> min </th><th> max </th><th> vary </th></tr><tr><td> tau </td><td>  827.982319 </td><td> 830 </td><td>  30.0000000 </td><td>  830.000000 </td><td> True </td></tr><tr><td> M </td><td>  51957.6360 </td><td> 13864.498560000016 </td><td>  13850.5730 </td><td>  100000.000 </td><td> True </td></tr><tr><td> p_initial </td><td>  10389.2303 </td><td> 10000.0 </td><td>  9539.17738 </td><td>  12000.0000 </td><td> True </td></tr></table>"
      ],
      "text/plain": [
       "<lmfit.minimizer.MinimizerResult at 0x7f29f748a610>"
      ]
     },
     "execution_count": 6,
     "metadata": {},
     "output_type": "execute_result"
    }
   ],
   "source": [
    "well_number = \"20\"\n",
    "prod_file = f\"../data/dataset_1_well_{well_number}.csv\"\n",
    "# This file contains pressure and production data. Rows 1 and 2 have information about units, so skip\n",
    "prod = pd.read_csv(prod_file, skiprows=[1, 2]).rename(\n",
    "    columns={\n",
    "        \"Time (Days)\": \"Days\",\n",
    "        \"Gas Volume (MMscf)\": \"Gas\",\n",
    "        \"Calculated Sandface Pressure  (psi(a))\": \"Pressure\",\n",
    "    }\n",
    ")[[\"Days\", \"Gas\", \"Pressure\"]]\n",
    "# This file contains an estimate of initial pressure. That's all I need it for here.\n",
    "well_file = f\"../data/WellData_{well_number}.csv\"\n",
    "pressure_initial = float(\n",
    "    pd.read_csv(well_file)\n",
    "    .set_index(\"Field\")\n",
    "    .loc[\"Initial Pressure Estimate (psi)\"]\n",
    "    .iloc[0]\n",
    ")\n",
    "\n",
    "result = fit_production_pressure(\n",
    "    prod,\n",
    "    pvt_gas,\n",
    "    pressure_initial,\n",
    "    n_iter=40,\n",
    "    pressure_imax=12000,\n",
    "    filter_window_size=30,\n",
    "    inplace_max=100000,\n",
    ")\n",
    "result"
   ]
  },
  {
   "cell_type": "markdown",
   "id": "bc117055-5b18-42ed-b273-3b15d1f63085",
   "metadata": {},
   "source": [
    "## Plot the result"
   ]
  },
  {
   "cell_type": "code",
   "execution_count": 7,
   "id": "e6f60a36-2958-4f44-b438-d99e022ede5a",
   "metadata": {},
   "outputs": [
    {
     "data": {
      "image/png": "[encoded data removed]",
      "text/plain": [
       "<Figure size 360x432 with 2 Axes>"
      ]
     },
     "metadata": {
      "needs_background": "light"
     },
     "output_type": "display_data"
    }
   ],
   "source": [
    "fig, (ax1, ax2) = plot_production_comparison(\n",
    "    prod,\n",
    "    pvt_gas,\n",
    "    result.params,\n",
    "    filter_window_size=30,\n",
    "    well_name=f\"Data well {well_number}\",\n",
    ")"
   ]
  }
 ],
 "metadata": {
  "kernelspec": {
   "display_name": "Python 3.9.13 ('venv': venv)",
   "language": "python",
   "name": "python3"
  },
  "language_info": {
   "codemirror_mode": {
    "name": "ipython",
    "version": 3
   },
   "file_extension": ".py",
   "mimetype": "text/x-python",
   "name": "python",
   "nbconvert_exporter": "python",
   "pygments_lexer": "ipython3",
   "version": "3.9.13"
  },
  "vscode": {
   "interpreter": {
    "hash": "78ac18265c879d37ac2b7841ad684544c80bf692635ddde1d3f767f267b966c1"
   }
  }
 },
 "nbformat": 4,
 "nbformat_minor": 5
}
